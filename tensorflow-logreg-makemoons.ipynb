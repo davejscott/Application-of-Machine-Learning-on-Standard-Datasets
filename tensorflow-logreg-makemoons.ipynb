{
 "cells": [
  {
   "cell_type": "code",
   "execution_count": 10,
   "metadata": {},
   "outputs": [],
   "source": [
    "import pandas as pd \n",
    "from sklearn.preprocessing import OneHotEncoder \n",
    "import tensorflow as tf\n",
    "import numpy as np\n",
    "import matplotlib.pyplot as plt \n",
    "from sklearn.datasets import make_moons\n",
    "from matplotlib import pyplot\n",
    "from pandas import DataFrame"
   ]
  },
  {
   "cell_type": "code",
   "execution_count": 80,
   "metadata": {},
   "outputs": [
    {
     "data": {
      "image/png": "[encoded data removed]",
      "text/plain": [
       "<Figure size 432x288 with 1 Axes>"
      ]
     },
     "metadata": {
      "needs_background": "light"
     },
     "output_type": "display_data"
    }
   ],
   "source": [
    "# generate 2d classification dataset\n",
    "x, y = make_moons(n_samples=100000, noise=0.1)\n",
    "# scatter plot, dots colored by class value\n",
    "df = DataFrame(dict(x=X_train[:,0], y=X_train[:,1], label=y_train))\n",
    "colors = {0:'red', 1:'blue'}\n",
    "fig, ax = pyplot.subplots()\n",
    "grouped = df.groupby('label')\n",
    "for key, group in grouped:\n",
    "    group.plot(ax=ax, kind='scatter', x='x', y='y', label=key, color=colors[key])\n",
    "pyplot.show()"
   ]
  },
  {
   "cell_type": "code",
   "execution_count": 106,
   "metadata": {},
   "outputs": [
    {
     "name": "stdout",
     "output_type": "stream",
     "text": [
      "m = 100000\n",
      "n = 2\n",
      "q = (100000,)\n",
      "Learning Rate = 0.003\n",
      "Number of Epochs = 500\n"
     ]
    }
   ],
   "source": [
    "alpha, epochs = 0.003, 500\n",
    "m, n = x.shape \n",
    "#y = np.expand_dims(y, axis=0)\n",
    "y = y.reshape(m, 1)\n",
    "print('m =', m) \n",
    "print('n =', n) \n",
    "print('q =', q) \n",
    "print('Learning Rate =', alpha) \n",
    "print('Number of Epochs =', epochs)"
   ]
  },
  {
   "cell_type": "code",
   "execution_count": 107,
   "metadata": {},
   "outputs": [],
   "source": [
    "X = tf.placeholder(tf.float32, [None, n])\n",
    "# y can only take two values\n",
    "Y = tf.placeholder(tf.float32, [m, None])\n",
    "# trainable variable weights\n",
    "W = tf.Variable(tf.zeros([n, 1]))\n",
    "# trainable variable bias\n",
    "b = tf.Variable(tf.zeros([1]))"
   ]
  },
  {
   "cell_type": "code",
   "execution_count": 108,
   "metadata": {},
   "outputs": [],
   "source": [
    "# hypothesis\n",
    "Y_hat = tf.nn.sigmoid(tf.add(tf.matmul(X, W), b))\n",
    "# sigmoid cross entropy cost function\n",
    "cost = tf.nn.sigmoid_cross_entropy_with_logits( \n",
    "    logits = Y_hat, labels = Y)\n",
    "# Gradient descent optimizer\n",
    "optimizer = tf.train.GradientDescentOptimizer(\n",
    "        learning_rate = alpha).minimize(cost)\n",
    "# global variables initializer\n",
    "init = tf.global_variables_initializer()"
   ]
  },
  {
   "cell_type": "code",
   "execution_count": 114,
   "metadata": {},
   "outputs": [
    {
     "name": "stdout",
     "output_type": "stream",
     "text": [
      "Epoch 100Cost: 55789.2734375\n",
      "Epoch 200Cost: 55789.0\n",
      "Epoch 300Cost: 55788.97265625\n",
      "Epoch 400Cost: 55788.81640625\n",
      "\n",
      "Accuracy: 100.0 %\n"
     ]
    }
   ],
   "source": [
    "# start session\n",
    "saver = tf.train.Saver()\n",
    "with tf.Session() as sess:\n",
    "    #initialize variables\n",
    "    sess.run(init)\n",
    "    #lists for storing and chaning Cost and Accuracy\n",
    "    cost_history, accuracy_history = [], []\n",
    "    # Iterating through all the epochs\n",
    "    for epoch in range(epochs):\n",
    "        cost_per_epoch = 0\n",
    "        \n",
    "        # Optimizer\n",
    "        sess.run(optimizer, feed_dict = {X : x, Y : y})\n",
    "        # Calculate cost on current Epoch\n",
    "        c = sess.run(cost, feed_dict = {X : x, Y : y})\n",
    "        \n",
    "        # Calculating accuracy on current Epoch\n",
    "        correct_prediction = tf.equal(tf.argmax(Y_hat, 1), tf.argmax(Y,1))\n",
    "        accuracy = tf.reduce_mean(tf.cast(correct_prediction,\n",
    "                                         tf.float32))\n",
    "        # Storing Cost and Accuracy to the history\n",
    "        cost_history.append(sum(sum(c)))\n",
    "        accuracy_history.append(accuracy.eval({X : x, Y : y}) * 100)\n",
    "        \n",
    "        # Displaying result on current Epoch\n",
    "        if epoch % 100 == 0 and epoch !=0:\n",
    "            print(\"Epoch \" + str(epoch) + \"Cost: \"\n",
    "                 + str(cost_history[-1]))\n",
    "            save_path = saver.save(sess, \"/tmp/my_model.ckpt\")\n",
    "            sess.run(optimizer, feed_dict={X: x, Y: y})\n",
    "    \n",
    "    Weight = sess.run(W) # Optimized Weight\n",
    "    Bias = sess.run(b) # Optimized bias\n",
    "    save_path = saver.save(sess, \"/tmp/my_model_final.ckpt\")\n",
    "    \n",
    "    #Final Accuracy\n",
    "    correct_prediction = tf.equal(tf.argmax(Y_hat, 1),\n",
    "                                 tf.argmax(Y, 1))\n",
    "    accuracy = tf.reduce_mean(tf.cast(correct_prediction,\n",
    "                                     tf.float32))\n",
    "    print(\"\\nAccuracy:\", accuracy_history[-1], \"%\")"
   ]
  },
  {
   "cell_type": "code",
   "execution_count": 115,
   "metadata": {},
   "outputs": [
    {
     "data": {
      "image/png": "[encoded data removed]",
      "text/plain": [
       "<Figure size 432x288 with 1 Axes>"
      ]
     },
     "metadata": {
      "needs_background": "light"
     },
     "output_type": "display_data"
    }
   ],
   "source": [
    "plt.plot(list(range(epochs)), cost_history) \n",
    "plt.xlabel('Epochs') \n",
    "plt.ylabel('Cost') \n",
    "plt.title('Decrease in Cost with Epochs') \n",
    "  \n",
    "plt.show() "
   ]
  },
  {
   "cell_type": "code",
   "execution_count": null,
   "metadata": {},
   "outputs": [],
   "source": []
  }
 ],
 "metadata": {
  "kernelspec": {
   "display_name": "Python 3",
   "language": "python",
   "name": "python3"
  },
  "language_info": {
   "codemirror_mode": {
    "name": "ipython",
    "version": 3
   },
   "file_extension": ".py",
   "mimetype": "text/x-python",
   "name": "python",
   "nbconvert_exporter": "python",
   "pygments_lexer": "ipython3",
   "version": "3.7.3"
  }
 },
 "nbformat": 4,
 "nbformat_minor": 2
}
