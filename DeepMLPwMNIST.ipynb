{
 "cells": [
  {
   "cell_type": "markdown",
   "metadata": {},
   "source": [
    "# Building a deep multi layer perceptron for the MNIST dataset with all the bells and whistles."
   ]
  },
  {
   "cell_type": "code",
   "execution_count": 1,
   "metadata": {},
   "outputs": [
    {
     "name": "stdout",
     "output_type": "stream",
     "text": [
      "WARNING:tensorflow:From <ipython-input-1-c50d5bb4a85c>:2: read_data_sets (from tensorflow.contrib.learn.python.learn.datasets.mnist) is deprecated and will be removed in a future version.\n",
      "Instructions for updating:\n",
      "Please use alternatives such as official/mnist/dataset.py from tensorflow/models.\n",
      "WARNING:tensorflow:From /Users/davescott/anaconda3/lib/python3.7/site-packages/tensorflow/contrib/learn/python/learn/datasets/mnist.py:260: maybe_download (from tensorflow.contrib.learn.python.learn.datasets.base) is deprecated and will be removed in a future version.\n",
      "Instructions for updating:\n",
      "Please write your own downloading logic.\n",
      "WARNING:tensorflow:From /Users/davescott/anaconda3/lib/python3.7/site-packages/tensorflow/contrib/learn/python/learn/datasets/mnist.py:262: extract_images (from tensorflow.contrib.learn.python.learn.datasets.mnist) is deprecated and will be removed in a future version.\n",
      "Instructions for updating:\n",
      "Please use tf.data to implement this functionality.\n",
      "Extracting /tmp/data/train-images-idx3-ubyte.gz\n",
      "WARNING:tensorflow:From /Users/davescott/anaconda3/lib/python3.7/site-packages/tensorflow/contrib/learn/python/learn/datasets/mnist.py:267: extract_labels (from tensorflow.contrib.learn.python.learn.datasets.mnist) is deprecated and will be removed in a future version.\n",
      "Instructions for updating:\n",
      "Please use tf.data to implement this functionality.\n",
      "Extracting /tmp/data/train-labels-idx1-ubyte.gz\n",
      "Extracting /tmp/data/t10k-images-idx3-ubyte.gz\n",
      "Extracting /tmp/data/t10k-labels-idx1-ubyte.gz\n",
      "WARNING:tensorflow:From /Users/davescott/anaconda3/lib/python3.7/site-packages/tensorflow/contrib/learn/python/learn/datasets/mnist.py:290: DataSet.__init__ (from tensorflow.contrib.learn.python.learn.datasets.mnist) is deprecated and will be removed in a future version.\n",
      "Instructions for updating:\n",
      "Please use alternatives such as official/mnist/dataset.py from tensorflow/models.\n"
     ]
    }
   ],
   "source": [
    "from tensorflow.examples.tutorials.mnist import input_data\n",
    "mnist = input_data.read_data_sets(\"/tmp/data/\")"
   ]
  },
  {
   "cell_type": "code",
   "execution_count": 2,
   "metadata": {},
   "outputs": [
    {
     "name": "stdout",
     "output_type": "stream",
     "text": [
      "Datasets(train=<tensorflow.contrib.learn.python.learn.datasets.mnist.DataSet object at 0x104009780>, validation=<tensorflow.contrib.learn.python.learn.datasets.mnist.DataSet object at 0xb23868668>, test=<tensorflow.contrib.learn.python.learn.datasets.mnist.DataSet object at 0xb238682e8>)\n"
     ]
    }
   ],
   "source": [
    "print(mnist)"
   ]
  },
  {
   "cell_type": "code",
   "execution_count": 3,
   "metadata": {},
   "outputs": [],
   "source": [
    "import tensorflow as tf"
   ]
  },
  {
   "cell_type": "code",
   "execution_count": 4,
   "metadata": {},
   "outputs": [],
   "source": [
    "n_inputs = 28*28 #MNIST\n",
    "n_hidden1 = 1000\n",
    "n_hidden2 = 500\n",
    "n_hidden3 = 300\n",
    "n_hidden4 = 200\n",
    "n_hidden5 = 100\n",
    "n_outputs = 10"
   ]
  },
  {
   "cell_type": "code",
   "execution_count": 5,
   "metadata": {},
   "outputs": [],
   "source": [
    "X = tf.placeholder(tf.float32, shape=(None, n_inputs), name=\"X\")\n",
    "y = tf.placeholder(tf.int64, shape=(None), name=\"y\")\n",
    "def neuron_layer(X, n_neurons, name, activation=None):\n",
    "    with tf.name_scope(name):\n",
    "        n_inputs = int(X.get_shape()[1])\n",
    "        stddev = 2 / np.sqrt(n_inputs + n_neurons)\n",
    "        init = tf.truncated_normal((n_inputs, n_neurons), stddev=stddev)\n",
    "        W = tf.Variable(init, name=\"kernel\")\n",
    "        b = tf.Variable(tf.zeros([n_neurons]), name=\"bias\")\n",
    "        Z = tf.matmul(X, W) + b\n",
    "        if activation is not None:\n",
    "            return activation(Z)\n",
    "        else:\n",
    "            return Z"
   ]
  },
  {
   "cell_type": "code",
   "execution_count": 6,
   "metadata": {
    "scrolled": true
   },
   "outputs": [
    {
     "name": "stdout",
     "output_type": "stream",
     "text": [
      "WARNING:tensorflow:From <ipython-input-6-c74e7b4faa82>:3: dense (from tensorflow.python.layers.core) is deprecated and will be removed in a future version.\n",
      "Instructions for updating:\n",
      "Use keras.layers.dense instead.\n",
      "WARNING:tensorflow:From /Users/davescott/anaconda3/lib/python3.7/site-packages/tensorflow/python/framework/op_def_library.py:263: colocate_with (from tensorflow.python.framework.ops) is deprecated and will be removed in a future version.\n",
      "Instructions for updating:\n",
      "Colocations handled automatically by placer.\n"
     ]
    }
   ],
   "source": [
    "with tf.name_scope(\"dnn\"):\n",
    "    hidden1 = tf.layers.dense(X, n_hidden1, name=\"hidden1\",\n",
    "                          activation=tf.nn.relu)\n",
    "    hidden2 = tf.layers.dense(hidden1, n_hidden2, name=\"hidden2\",\n",
    "                          activation=tf.nn.relu)\n",
    "    hidden3 = tf.layers.dense(hidden2, n_hidden3, name=\"hidden3\",\n",
    "                          activation=tf.nn.relu)\n",
    "    hidden4 = tf.layers.dense(hidden3, n_hidden4, name=\"hidden4\",\n",
    "                          activation=tf.nn.relu)\n",
    "    hidden5 = tf.layers.dense(hidden4, n_hidden5, name=\"hidden5\",\n",
    "                          activation=tf.nn.relu)\n",
    "    logits = tf.layers.dense(hidden5, n_outputs, name=\"outputs\")"
   ]
  },
  {
   "cell_type": "code",
   "execution_count": 7,
   "metadata": {},
   "outputs": [],
   "source": [
    "with tf.name_scope(\"loss\"):\n",
    "    xentropy = tf.nn.sparse_softmax_cross_entropy_with_logits(labels=y,\n",
    "                                                             logits=logits)\n",
    "    loss = tf.reduce_mean(xentropy, name=\"loss\")"
   ]
  },
  {
   "cell_type": "code",
   "execution_count": 9,
   "metadata": {},
   "outputs": [],
   "source": [
    "learning_rate = 0.01\n",
    "with tf.name_scope(\"train\"):\n",
    "    optimizer = tf.train.GradientDescentOptimizer(learning_rate)\n",
    "    training_op = optimizer.minimize(loss)"
   ]
  },
  {
   "cell_type": "code",
   "execution_count": 10,
   "metadata": {},
   "outputs": [],
   "source": [
    "with tf.name_scope(\"eval\"):\n",
    "    correct = tf.nn.in_top_k(logits, y, 1)\n",
    "    accuracy = tf.reduce_mean(tf.cast(correct, tf.float32))"
   ]
  },
  {
   "cell_type": "code",
   "execution_count": 11,
   "metadata": {},
   "outputs": [],
   "source": [
    "init = tf.global_variables_initializer()\n",
    "saver = tf.train.Saver()"
   ]
  },
  {
   "cell_type": "code",
   "execution_count": 12,
   "metadata": {},
   "outputs": [],
   "source": [
    "n_epochs = 50\n",
    "batch_size = 50"
   ]
  },
  {
   "cell_type": "code",
   "execution_count": 13,
   "metadata": {},
   "outputs": [
    {
     "name": "stdout",
     "output_type": "stream",
     "text": [
      "0 Train accuracy: 0.98 Val accuracy 0.9216\n",
      "1 Train accuracy: 0.98 Val accuracy 0.9408\n",
      "2 Train accuracy: 0.94 Val accuracy 0.9516\n",
      "3 Train accuracy: 1.0 Val accuracy 0.964\n",
      "4 Train accuracy: 0.98 Val accuracy 0.9612\n",
      "5 Train accuracy: 1.0 Val accuracy 0.9676\n",
      "6 Train accuracy: 1.0 Val accuracy 0.9684\n",
      "7 Train accuracy: 1.0 Val accuracy 0.973\n",
      "8 Train accuracy: 0.98 Val accuracy 0.9764\n",
      "9 Train accuracy: 1.0 Val accuracy 0.9772\n",
      "10 Train accuracy: 1.0 Val accuracy 0.977\n",
      "11 Train accuracy: 1.0 Val accuracy 0.9808\n",
      "12 Train accuracy: 1.0 Val accuracy 0.9782\n",
      "13 Train accuracy: 1.0 Val accuracy 0.9786\n",
      "14 Train accuracy: 1.0 Val accuracy 0.9798\n",
      "15 Train accuracy: 1.0 Val accuracy 0.9798\n",
      "16 Train accuracy: 1.0 Val accuracy 0.9798\n",
      "17 Train accuracy: 1.0 Val accuracy 0.9772\n",
      "18 Train accuracy: 1.0 Val accuracy 0.9792\n",
      "19 Train accuracy: 1.0 Val accuracy 0.9798\n",
      "20 Train accuracy: 1.0 Val accuracy 0.9766\n",
      "21 Train accuracy: 1.0 Val accuracy 0.9804\n",
      "22 Train accuracy: 1.0 Val accuracy 0.979\n",
      "23 Train accuracy: 1.0 Val accuracy 0.9806\n",
      "24 Train accuracy: 1.0 Val accuracy 0.9802\n",
      "25 Train accuracy: 1.0 Val accuracy 0.9814\n",
      "26 Train accuracy: 1.0 Val accuracy 0.981\n",
      "27 Train accuracy: 1.0 Val accuracy 0.9806\n",
      "28 Train accuracy: 1.0 Val accuracy 0.981\n",
      "29 Train accuracy: 1.0 Val accuracy 0.9816\n",
      "30 Train accuracy: 1.0 Val accuracy 0.9812\n",
      "31 Train accuracy: 1.0 Val accuracy 0.9812\n",
      "32 Train accuracy: 1.0 Val accuracy 0.981\n",
      "33 Train accuracy: 1.0 Val accuracy 0.9808\n",
      "34 Train accuracy: 1.0 Val accuracy 0.9808\n",
      "35 Train accuracy: 1.0 Val accuracy 0.9812\n",
      "36 Train accuracy: 1.0 Val accuracy 0.981\n",
      "37 Train accuracy: 1.0 Val accuracy 0.981\n",
      "38 Train accuracy: 1.0 Val accuracy 0.9812\n",
      "39 Train accuracy: 1.0 Val accuracy 0.9806\n",
      "40 Train accuracy: 1.0 Val accuracy 0.9808\n",
      "41 Train accuracy: 1.0 Val accuracy 0.9806\n",
      "42 Train accuracy: 1.0 Val accuracy 0.981\n",
      "43 Train accuracy: 1.0 Val accuracy 0.9806\n",
      "44 Train accuracy: 1.0 Val accuracy 0.9806\n",
      "45 Train accuracy: 1.0 Val accuracy 0.981\n",
      "46 Train accuracy: 1.0 Val accuracy 0.9812\n",
      "47 Train accuracy: 1.0 Val accuracy 0.9806\n",
      "48 Train accuracy: 1.0 Val accuracy 0.9808\n",
      "49 Train accuracy: 1.0 Val accuracy 0.9804\n"
     ]
    }
   ],
   "source": [
    "with tf.Session() as sess:\n",
    "    init.run()\n",
    "    for epoch in range(n_epochs):\n",
    "        for iteration in range(mnist.train.num_examples // batch_size):\n",
    "            X_batch, y_batch = mnist.train.next_batch(batch_size)\n",
    "            sess.run(training_op, feed_dict={X: X_batch, y: y_batch})\n",
    "        acc_train = accuracy.eval(feed_dict={X: X_batch, y: y_batch})\n",
    "        acc_val = accuracy.eval(feed_dict={X: mnist.validation.images, y: mnist.validation.labels})\n",
    "        print(epoch, \"Train accuracy:\", acc_train, \"Val accuracy\", acc_val)\n",
    "    save_path = saver.save(sess, \"./my_model_final.ckpt\")"
   ]
  },
  {
   "cell_type": "code",
   "execution_count": 14,
   "metadata": {},
   "outputs": [],
   "source": [
    "def strip_consts(graph_def, max_const_size=32):\n",
    "    \"\"\"Strip large constant values from graph_def.\"\"\"\n",
    "    strip_def = tf.GraphDef()\n",
    "    for n0 in graph_def.node:\n",
    "        n = strip_def.node.add() \n",
    "        n.MergeFrom(n0)\n",
    "        if n.op == 'Const':\n",
    "            tensor = n.attr['value'].tensor\n",
    "            size = len(tensor.tensor_content)\n",
    "            if size > max_const_size:\n",
    "                tensor.tensor_content = \"<stripped %d bytes>\"%size\n",
    "    return strip_def\n",
    "\n",
    "def show_graph(graph_def, max_const_size=32):\n",
    "    \"\"\"Visualize TensorFlow graph.\"\"\"\n",
    "    if hasattr(graph_def, 'as_graph_def'):\n",
    "        graph_def = graph_def.as_graph_def()\n",
    "    strip_def = strip_consts(graph_def, max_const_size=max_const_size)\n",
    "    code = \"\"\"\n",
    "        <script src=\"//cdnjs.cloudflare.com/ajax/libs/polymer/0.3.3/platform.js\"></script>\n",
    "        <script>\n",
    "          function load() {{\n",
    "            document.getElementById(\"{id}\").pbtxt = {data};\n",
    "          }}\n",
    "        </script>\n",
    "        <link rel=\"import\" href=\"https://tensorboard.appspot.com/tf-graph-basic.build.html\" onload=load()>\n",
    "        <div style=\"height:600px\">\n",
    "          <tf-graph-basic id=\"{id}\"></tf-graph-basic>\n",
    "        </div>\n",
    "    \"\"\".format(data=repr(str(strip_def)), id='graph'+str(np.random.rand()))\n",
    "\n",
    "    iframe = \"\"\"\n",
    "        <iframe seamless style=\"width:1200px;height:620px;border:0\" srcdoc=\"{}\"></iframe>\n",
    "    \"\"\".format(code.replace('\"', '&quot;'))\n",
    "    display(HTML(iframe))"
   ]
  },
  {
   "cell_type": "code",
   "execution_count": 23,
   "metadata": {},
   "outputs": [],
   "source": [
    "from datetime import datetime\n",
    "\n",
    "now = datetime.utcnow().strftime(\"%Y%m%d%H%M%S\")\n",
    "root_logdir = \"tf_logs\"\n",
    "logdir = \"{}/run-{}/\".format(root_logdir, now)"
   ]
  },
  {
   "cell_type": "code",
   "execution_count": 24,
   "metadata": {},
   "outputs": [],
   "source": [
    "with tf.name_scope(\"eval\") as scope:\n",
    "    correct = tf.nn.in_top_k(logits, y, 1)\n",
    "    accuracy = tf.reduce_mean(tf.cast(correct, tf.float32))\n",
    "accuracy_summary = tf.summary.scalar('Accuracy', accuracy)\n",
    "file_writer = tf.summary.FileWriter(logdir, tf.get_default_graph())"
   ]
  },
  {
   "cell_type": "code",
   "execution_count": 25,
   "metadata": {},
   "outputs": [],
   "source": [
    "import numpy as np"
   ]
  },
  {
   "cell_type": "code",
   "execution_count": 28,
   "metadata": {},
   "outputs": [
    {
     "name": "stdout",
     "output_type": "stream",
     "text": [
      "0 Train accuracy: 0.96 Val accuracy 0.9266\n",
      "1 Train accuracy: 1.0 Val accuracy 0.9452\n",
      "2 Train accuracy: 1.0 Val accuracy 0.957\n",
      "3 Train accuracy: 1.0 Val accuracy 0.9636\n",
      "4 Train accuracy: 1.0 Val accuracy 0.967\n",
      "5 Train accuracy: 1.0 Val accuracy 0.971\n",
      "6 Train accuracy: 1.0 Val accuracy 0.9744\n",
      "7 Train accuracy: 1.0 Val accuracy 0.9758\n",
      "8 Train accuracy: 1.0 Val accuracy 0.9748\n",
      "9 Train accuracy: 1.0 Val accuracy 0.9772\n",
      "10 Train accuracy: 1.0 Val accuracy 0.9756\n",
      "11 Train accuracy: 1.0 Val accuracy 0.9776\n",
      "12 Train accuracy: 1.0 Val accuracy 0.979\n",
      "13 Train accuracy: 1.0 Val accuracy 0.9794\n",
      "14 Train accuracy: 1.0 Val accuracy 0.9784\n",
      "15 Train accuracy: 1.0 Val accuracy 0.9796\n",
      "16 Train accuracy: 1.0 Val accuracy 0.9796\n",
      "17 Train accuracy: 1.0 Val accuracy 0.9806\n",
      "18 Train accuracy: 1.0 Val accuracy 0.9818\n",
      "19 Train accuracy: 1.0 Val accuracy 0.9806\n",
      "20 Train accuracy: 1.0 Val accuracy 0.9812\n",
      "21 Train accuracy: 1.0 Val accuracy 0.98\n",
      "22 Train accuracy: 1.0 Val accuracy 0.9804\n",
      "23 Train accuracy: 1.0 Val accuracy 0.9812\n",
      "24 Train accuracy: 1.0 Val accuracy 0.9792\n",
      "25 Train accuracy: 1.0 Val accuracy 0.9808\n",
      "26 Train accuracy: 1.0 Val accuracy 0.9806\n",
      "27 Train accuracy: 1.0 Val accuracy 0.9798\n",
      "28 Train accuracy: 1.0 Val accuracy 0.9808\n",
      "29 Train accuracy: 1.0 Val accuracy 0.981\n",
      "30 Train accuracy: 1.0 Val accuracy 0.981\n",
      "31 Train accuracy: 1.0 Val accuracy 0.981\n",
      "32 Train accuracy: 1.0 Val accuracy 0.981\n",
      "33 Train accuracy: 1.0 Val accuracy 0.981\n",
      "34 Train accuracy: 1.0 Val accuracy 0.9808\n",
      "35 Train accuracy: 1.0 Val accuracy 0.9804\n",
      "36 Train accuracy: 1.0 Val accuracy 0.9812\n",
      "37 Train accuracy: 1.0 Val accuracy 0.9808\n",
      "38 Train accuracy: 1.0 Val accuracy 0.9804\n",
      "39 Train accuracy: 1.0 Val accuracy 0.9812\n",
      "40 Train accuracy: 1.0 Val accuracy 0.9818\n",
      "41 Train accuracy: 1.0 Val accuracy 0.9806\n",
      "42 Train accuracy: 1.0 Val accuracy 0.9812\n",
      "43 Train accuracy: 1.0 Val accuracy 0.981\n",
      "44 Train accuracy: 1.0 Val accuracy 0.981\n",
      "45 Train accuracy: 1.0 Val accuracy 0.9808\n",
      "46 Train accuracy: 1.0 Val accuracy 0.9808\n",
      "47 Train accuracy: 1.0 Val accuracy 0.9814\n",
      "48 Train accuracy: 1.0 Val accuracy 0.9814\n",
      "49 Train accuracy: 1.0 Val accuracy 0.9812\n"
     ]
    }
   ],
   "source": [
    "# start session\n",
    "saver = tf.train.Saver()\n",
    "\n",
    "batch_size = 50\n",
    "n_batches = int(np.ceil(n_inputs / batch_size))\n",
    "\n",
    "def fetch_batch(epoch, batch_index, batch_size):\n",
    "    np.random.seed(epoch * n_batches + batch_index)  \n",
    "    indices = np.random.randint(n_inputs, size=batch_size)  \n",
    "    X_batch = x[indices] \n",
    "    y_batch = y[indices] \n",
    "    return X_batch, y_batch\n",
    "with tf.Session() as sess:\n",
    "    sess.run(init)\n",
    "    for epoch in range(n_epochs):\n",
    "        for iteration in range(mnist.train.num_examples // batch_size):\n",
    "            X_batch, y_batch = mnist.train.next_batch(batch_size)\n",
    "            sess.run(training_op, feed_dict={X: X_batch, y: y_batch})\n",
    "        if epoch % 5 == 0 and epoch !=0:\n",
    "            summary_str = accuracy_summary.eval(feed_dict={X: X_batch, y: y_batch})\n",
    "            step = epoch * n_batches + epoch\n",
    "            file_writer.add_summary(summary_str, step)\n",
    "        acc_train = accuracy.eval(feed_dict={X: X_batch, y: y_batch})\n",
    "        acc_val = accuracy.eval(feed_dict={X: mnist.validation.images, y: mnist.validation.labels})\n",
    "        print(epoch, \"Train accuracy:\", acc_train, \"Val accuracy\", acc_val)\n",
    "    save_path = saver.save(sess, \"./my_model_final.ckpt\")"
   ]
  },
  {
   "cell_type": "code",
   "execution_count": 29,
   "metadata": {},
   "outputs": [],
   "source": [
    "file_writer.close()"
   ]
  },
  {
   "cell_type": "code",
   "execution_count": null,
   "metadata": {},
   "outputs": [],
   "source": []
  }
 ],
 "metadata": {
  "kernelspec": {
   "display_name": "Python 3",
   "language": "python",
   "name": "python3"
  },
  "language_info": {
   "codemirror_mode": {
    "name": "ipython",
    "version": 3
   },
   "file_extension": ".py",
   "mimetype": "text/x-python",
   "name": "python",
   "nbconvert_exporter": "python",
   "pygments_lexer": "ipython3",
   "version": "3.7.3"
  }
 },
 "nbformat": 4,
 "nbformat_minor": 2
}
